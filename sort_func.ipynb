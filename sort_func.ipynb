{
 "cells": [
  {
   "cell_type": "code",
   "execution_count": 18,
   "id": "8481d3a0-c938-4a39-85df-f2d2e81e01bb",
   "metadata": {},
   "outputs": [],
   "source": [
    "def sort(width, height, length, mass):\n",
    "    \"\"\"\n",
    "    Determines the correct dispatch stack for a package based on its dimensions and mass.\n",
    "    \n",
    "    Parameters:\n",
    "    - width (float): The width of the package in centimeters\n",
    "    - height (float): The height of the package in centimeters\n",
    "    - length (float): The length of the package in centimeters\n",
    "    - mass (float): The mass of the package in kilograms\n",
    "    \n",
    "    Returns:\n",
    "    - str: The stack where the package should be dispatched (\"STANDARD\", \"SPECIAL\", \"REJECTED\")\n",
    "    \"\"\"\n",
    "    # Raise error if all dimensions and mass are negative or zero\n",
    "    if width <= 0 or height <= 0 or length <= 0 or mass <= 0:\n",
    "        raise ValueError(\"Dimensions and mass must be non-negative\")\n",
    "        return\n",
    "\n",
    "    # Calculate the volume of the package\n",
    "    volume = width * height * length\n",
    "    # Check if the package is bulky\n",
    "    is_bulky = volume >= 1000000 or max(width, height, length) >= 150\n",
    "    # Check if the package is heavy\n",
    "    is_heavy = mass >= 20\n",
    "    \n",
    "    if is_bulky and is_heavy:\n",
    "        return \"REJECTED\"\n",
    "    elif is_bulky or is_heavy:\n",
    "        return \"SPECIAL\"\n",
    "    else:\n",
    "        return \"STANDARD\""
   ]
  },
  {
   "cell_type": "code",
   "execution_count": 19,
   "id": "ab1c475d-fa35-4200-86e5-05ee412bef5a",
   "metadata": {},
   "outputs": [],
   "source": [
    "def test_sort():\n",
    "    assert sort(100, 100, 100, 10) == \"SPECIAL\", \"Error: Should be STANDARD\" # SPECIAL (bulky due to volume >= 1000000 cm3) \n",
    "    assert sort(150, 50, 50, 10) == \"SPECIAL\", \"Error: Should be SPECIAL due to dimension\" # SPECIAL (bulky due to one dimension being >= 150 cm)\n",
    "    assert sort(200, 200, 200, 30) == \"REJECTED\", \"Error: Should be REJECTED\" # REJECTED (both bulky and heavy)\n",
    "    assert sort(100, 100, 10, 50) == \"SPECIAL\", \"Error: Should be SPECIAL due to weight\" \n",
    "    \n",
    "    try:\n",
    "        sort(-1, 150, 150, 30)\n",
    "        assert False, \"Error: Negative dimensions should raise ValueError\"\n",
    "    except ValueError:\n",
    "        assert True, \"Correctly raised ValueError on negative dimension\"\n",
    "    \n",
    "    try:\n",
    "        sort(0, 150, 150, 30)\n",
    "        assert False, \"Error: Zero dimensions should raise ValueError\"\n",
    "    except ValueError:\n",
    "        assert True, \"Correctly raised ValueError on zero dimension\"\n",
    "\n",
    "test_sort()\n"
   ]
  },
  {
   "cell_type": "code",
   "execution_count": null,
   "id": "a2495762-1ab3-4438-a4a6-492bc45fa7e7",
   "metadata": {},
   "outputs": [],
   "source": []
  }
 ],
 "metadata": {
  "kernelspec": {
   "display_name": "Python 3 (ipykernel)",
   "language": "python",
   "name": "python3"
  },
  "language_info": {
   "codemirror_mode": {
    "name": "ipython",
    "version": 3
   },
   "file_extension": ".py",
   "mimetype": "text/x-python",
   "name": "python",
   "nbconvert_exporter": "python",
   "pygments_lexer": "ipython3",
   "version": "3.10.8"
  }
 },
 "nbformat": 4,
 "nbformat_minor": 5
}
